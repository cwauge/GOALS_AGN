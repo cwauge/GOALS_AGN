{
 "cells": [
  {
   "cell_type": "code",
   "execution_count": 13,
   "metadata": {},
   "outputs": [],
   "source": [
    "import numpy as np\n",
    "import matplotlib.pyplot as plt \n",
    "from astropy.io import fits\n",
    "from astropy.io import ascii\n",
    "\n",
    "\n",
    "plt.rcParams['font.size'] = 22\n",
    "plt.rcParams['axes.linewidth'] = 3\n",
    "plt.rcParams['xtick.major.size'] = 5\n",
    "plt.rcParams['xtick.major.width'] = 4\n",
    "plt.rcParams['ytick.major.size'] = 5\n",
    "plt.rcParams['ytick.major.width'] = 4\n",
    "plt.rcParams['hatch.linewidth'] = 2.0\n",
    "\n",
    "\n",
    "\n",
    "inf = ascii.read('/Users/connor_auge/Research/Disertation/GOALS/GOALS_cat/GOALS_full_table.csv')\n",
    "inf2 = ascii.read('/Users/connor_auge/Research/Disertation/GOALS/GOALS_cat/GOALS_xray_sample.csv')\n",
    "inf3 = ascii.read('/Users/connor_auge/Research/Disertation/GOALS/GOALS_cat/GOALS_xray_cat.csv')"
   ]
  },
  {
   "cell_type": "code",
   "execution_count": 14,
   "metadata": {},
   "outputs": [
    {
     "data": {
      "text/html": [
       "<div><i>Table length=81</i>\n",
       "<table id=\"table4816312784\" class=\"table-striped table-bordered table-condensed\">\n",
       "<thead><tr><th>IRAS name</th><th>Source</th><th>L2−10_obs</th><th>L10−24_obs</th><th>L2−10_int</th><th>L10−24_int</th><th>NH</th><th>Reference</th></tr></thead>\n",
       "<thead><tr><th>str16</th><th>str20</th><th>float64</th><th>float64</th><th>float64</th><th>float64</th><th>str23</th><th>str22</th></tr></thead>\n",
       "<tr><td>F00085−1223</td><td>NGC 34</td><td>41.41</td><td>41.63</td><td>42.05</td><td>41.82</td><td>23.72 [23.62 -99.23.81]</td><td>Ricci et al. (2017b)</td></tr>\n",
       "<tr><td>F00163−1039</td><td>MCG−02−01−051</td><td>40.95</td><td>40.52</td><td>40.68</td><td>40.52</td><td>-99.</td><td>Ricci et al. (2017b)</td></tr>\n",
       "<tr><td>--</td><td>MCG−02−01−052</td><td>40.21</td><td>40.89</td><td>41.05</td><td>40.89</td><td>-99.</td><td>Ricci et al. (2017b)</td></tr>\n",
       "<tr><td>F00344−3349</td><td>ESO 350−IG038</td><td>41.1</td><td>40.44</td><td>40.6</td><td>40.44</td><td>-99.</td><td>This work</td></tr>\n",
       "<tr><td>F00506+7248</td><td>MCG+12−02−001</td><td>40.66</td><td>40.5</td><td>40.66</td><td>40.5</td><td>-99.</td><td>Ricci et al. (2017b)</td></tr>\n",
       "<tr><td>F01053−1746</td><td>IC 1623A/B</td><td>41.33</td><td>40.95</td><td>41.11</td><td>40.95</td><td>-99.</td><td>This wok</td></tr>\n",
       "<tr><td>F02069−1022</td><td>NGC 833</td><td>41.4</td><td>41.65</td><td>41.81</td><td>41.72</td><td>23.45 [23.40 -99.23.49]</td><td>Oda et al. (2018)</td></tr>\n",
       "<tr><td>--</td><td>NGC 835</td><td>41.64</td><td>41.86</td><td>42.06</td><td>41.97</td><td>23.63 [23.52 -99.23.76]</td><td>Oda et al. (2018)</td></tr>\n",
       "<tr><td>F02401−0013</td><td>NGC 1068</td><td>41.19</td><td>41.39</td><td>43.11</td><td>42.95</td><td>≥24.99</td><td>Bauer et al. (2015)</td></tr>\n",
       "<tr><td>F03117+4151</td><td>Mrk 1073</td><td>41.41</td><td>42.38</td><td>43.51</td><td>43.39</td><td>24.51 [24.34 -99.24.56]</td><td>Yamada et al. (2020)</td></tr>\n",
       "<tr><td>...</td><td>...</td><td>...</td><td>...</td><td>...</td><td>...</td><td>...</td><td>...</td></tr>\n",
       "<tr><td>F21453−3511</td><td>NGC 7130</td><td>41.11</td><td>41.88</td><td>43.05</td><td>42.62</td><td>24.61 [24.50 -99.24.66]</td><td>Ricci et al. (2017b)</td></tr>\n",
       "<tr><td>F23007+0836</td><td>NGC 7469</td><td>43.24</td><td>43.1</td><td>43.36</td><td>43.14</td><td>19.78 [19.60 -99.19.90]</td><td>Ricci et al. (2017b)</td></tr>\n",
       "<tr><td>--</td><td>IC 5283</td><td>-99.0</td><td>-99.0</td><td>-99.0</td><td>-99.0</td><td>-99.</td><td>Ricci et al. (2017b)</td></tr>\n",
       "<tr><td>F23128−5919</td><td>ESO 148−IG002</td><td>41.94</td><td>41.23</td><td>41.39</td><td>41.23</td><td>-99.</td><td>This work</td></tr>\n",
       "<tr><td>F23157+0618</td><td>NGC 7591</td><td>39.97</td><td>40.26</td><td>40.42</td><td>40.26</td><td>-99.</td><td>Privon et al. (2020)</td></tr>\n",
       "<tr><td>F23254+0830</td><td>NGC 7674</td><td>42.14</td><td>42.52</td><td>43.6</td><td>43.44</td><td>24.48</td><td>Gandhi et al. (2017)</td></tr>\n",
       "<tr><td>--</td><td>NGC 7674A</td><td>-99.0</td><td>-99.0</td><td>-99.0</td><td>-99.0</td><td>-99.</td><td>Gandhi et al. (2017)</td></tr>\n",
       "<tr><td>23262+0314</td><td>NGC 7679</td><td>41.6</td><td>41.5</td><td>41.6</td><td>41.5</td><td>20.30</td><td>Ricci et al. (2017b)</td></tr>\n",
       "<tr><td>--</td><td>NGC 7682</td><td>41.28</td><td>42.28</td><td>43.7</td><td>43.3</td><td>24.39 [23.99 -99.24.48]</td><td>Ricci et al. (2017b)</td></tr>\n",
       "<tr><td>F23365+3604</td><td>-99.</td><td>41.48</td><td>41.76</td><td>41.92</td><td>41.76</td><td>-99.</td><td>This work</td></tr>\n",
       "</table></div>"
      ],
      "text/plain": [
       "<Table length=81>\n",
       " IRAS name      Source    ...            NH                Reference      \n",
       "   str16        str20     ...          str23                 str22        \n",
       "----------- ------------- ... ----------------------- --------------------\n",
       "F00085−1223        NGC 34 ... 23.72 [23.62 -99.23.81] Ricci et al. (2017b)\n",
       "F00163−1039 MCG−02−01−051 ...                    -99. Ricci et al. (2017b)\n",
       "         -- MCG−02−01−052 ...                    -99. Ricci et al. (2017b)\n",
       "F00344−3349 ESO 350−IG038 ...                    -99.            This work\n",
       "F00506+7248 MCG+12−02−001 ...                    -99. Ricci et al. (2017b)\n",
       "F01053−1746    IC 1623A/B ...                    -99.             This wok\n",
       "F02069−1022       NGC 833 ... 23.45 [23.40 -99.23.49]    Oda et al. (2018)\n",
       "         --       NGC 835 ... 23.63 [23.52 -99.23.76]    Oda et al. (2018)\n",
       "F02401−0013      NGC 1068 ...                  ≥24.99  Bauer et al. (2015)\n",
       "F03117+4151      Mrk 1073 ... 24.51 [24.34 -99.24.56] Yamada et al. (2020)\n",
       "        ...           ... ...                     ...                  ...\n",
       "F21453−3511      NGC 7130 ... 24.61 [24.50 -99.24.66] Ricci et al. (2017b)\n",
       "F23007+0836      NGC 7469 ... 19.78 [19.60 -99.19.90] Ricci et al. (2017b)\n",
       "         --       IC 5283 ...                    -99. Ricci et al. (2017b)\n",
       "F23128−5919 ESO 148−IG002 ...                    -99.            This work\n",
       "F23157+0618      NGC 7591 ...                    -99. Privon et al. (2020)\n",
       "F23254+0830      NGC 7674 ...                   24.48 Gandhi et al. (2017)\n",
       "         --     NGC 7674A ...                    -99. Gandhi et al. (2017)\n",
       " 23262+0314      NGC 7679 ...                   20.30 Ricci et al. (2017b)\n",
       "         --      NGC 7682 ... 24.39 [23.99 -99.24.48] Ricci et al. (2017b)\n",
       "F23365+3604          -99. ...                    -99.            This work"
      ]
     },
     "execution_count": 14,
     "metadata": {},
     "output_type": "execute_result"
    }
   ],
   "source": [
    "inf3"
   ]
  },
  {
   "cell_type": "code",
   "execution_count": 15,
   "metadata": {},
   "outputs": [],
   "source": [
    "ID1 = inf['IRAS Name']\n",
    "LIR = inf['LIR']\n",
    "\n",
    "ID2 = inf2['IRAS name']\n",
    "LIR2 = inf2['LIR']\n",
    "L2_10_int2 = np.asarray(inf3['L2−10_int'])\n",
    "\n",
    "L2_10_int = np.asarray(inf3['L2−10_int'],dtype=float)\n",
    "# L2_10_int = [inf3['L2-10_int'][i] for i in range(len(inf3['L2-10_int'])) if ]"
   ]
  },
  {
   "cell_type": "code",
   "execution_count": 8,
   "metadata": {},
   "outputs": [
    {
     "data": {
      "image/png": "[encoded data removed]",
      "text/plain": [
       "<Figure size 720x720 with 1 Axes>"
      ]
     },
     "metadata": {
      "needs_background": "light"
     },
     "output_type": "display_data"
    }
   ],
   "source": [
    "plt.figure(figsize=(10,10))\n",
    "plt.hist(LIR,np.arange(10,14,0.25),color='gray')\n",
    "plt.hist(LIR2,np.arange(11,14,0.25),histtype='step',hatch='/',lw=3,color='k')\n",
    "plt.xlabel(r'log ($L_{\\rm IR}$/$L_\\odot$)')\n",
    "plt.xlim(10.7,13)\n",
    "plt.savefig('/Users/connor_auge/Research/Disertation/GOALS/GOALS_figs/_paper/Lir_hist.pdf')\n",
    "plt.show()"
   ]
  },
  {
   "cell_type": "code",
   "execution_count": 9,
   "metadata": {},
   "outputs": [
    {
     "name": "stdout",
     "output_type": "stream",
     "text": [
      "42.05\n",
      "40.68\n",
      "41.05\n",
      "40.60\n",
      "40.66\n",
      "41.11\n",
      "41.81\n",
      "42.06\n",
      "43.11\n",
      "43.51\n",
      "43.22\n",
      "42.00\n",
      "41.38\n",
      "–\n",
      "42.84\n",
      "43.57\n",
      "42.34\n",
      "–\n",
      "42.03\n",
      "41.04\n",
      "42.11\n",
      "41.29\n",
      "41.52\n",
      "41.52\n",
      "43.43\n",
      "40.60\n",
      "40.64\n",
      "40.77\n",
      "40.43\n",
      "40.97\n",
      "40.39\n",
      "41.25\n",
      "43.18\n",
      "–\n",
      "40.95\n",
      "41.03\n",
      "41.89\n",
      "39.65\n",
      "42.66\n",
      "43.05\n",
      "–\n",
      "43.10\n",
      "39.76\n",
      "40.76\n",
      "40.13\n",
      "43.41\n",
      "43.35\n",
      "41.60\n",
      "43.13\n",
      "42.93\n",
      "42.01\n",
      "42.01\n",
      "41.87\n",
      "42.85\n",
      "41.09\n",
      "41.82\n",
      "≳42.92\n",
      "43.30\n",
      "43.72\n",
      "41.98\n",
      "40.51\n",
      "41.36\n",
      "41.53\n",
      "40.76\n",
      "42.17\n",
      "40.38\n",
      "42.36\n",
      "42.97\n",
      "41.41\n",
      "41.41\n",
      "41.66\n",
      "43.05\n",
      "43.36\n",
      "–\n",
      "41.39\n",
      "40.42\n",
      "43.60\n",
      "–\n",
      "41.60\n",
      "43.70\n",
      "41.92\n"
     ]
    }
   ],
   "source": []
  },
  {
   "cell_type": "code",
   "execution_count": null,
   "metadata": {},
   "outputs": [],
   "source": []
  },
  {
   "cell_type": "code",
   "execution_count": null,
   "metadata": {},
   "outputs": [],
   "source": []
  }
 ],
 "metadata": {
  "kernelspec": {
   "display_name": "py39",
   "language": "python",
   "name": "python3"
  },
  "language_info": {
   "codemirror_mode": {
    "name": "ipython",
    "version": 3
   },
   "file_extension": ".py",
   "mimetype": "text/x-python",
   "name": "python",
   "nbconvert_exporter": "python",
   "pygments_lexer": "ipython3",
   "version": "3.9.12"
  }
 },
 "nbformat": 4,
 "nbformat_minor": 2
}
