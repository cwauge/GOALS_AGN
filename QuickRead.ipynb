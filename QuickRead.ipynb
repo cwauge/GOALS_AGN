{
 "cells": [
  {
   "cell_type": "code",
   "execution_count": 2,
   "metadata": {},
   "outputs": [],
   "source": [
    "import numpy as np \n",
    "from astropy.io import fits\n",
    "from astropy.cosmology import FlatLambdaCDM\n",
    "from scipy.constants import c"
   ]
  },
  {
   "cell_type": "code",
   "execution_count": 37,
   "metadata": {},
   "outputs": [],
   "source": [
    "def Flux_to_Lum(F,z):\n",
    "    '''Function to convert flux to luminosity'''\n",
    "    cosmo = FlatLambdaCDM(H0=70, Om0=0.29, Tcmb0=2.725)\n",
    "\n",
    "    dl = cosmo.luminosity_distance(z).value # Distance in Mpc\n",
    "    dl_cgs = dl*(3.0856E24) # Distance from Mpc to cm\n",
    "\n",
    "    # convert flux to luminosity \n",
    "    L = F*4*np.pi*dl_cgs**2\n",
    "\n",
    "    return L\n",
    "\n",
    "\n",
    "def Lum_to_Flux(L,z):\n",
    "    '''Function to convert flux to luminosity'''\n",
    "    cosmo = FlatLambdaCDM(H0=70, Om0=0.29, Tcmb0=2.725)\n",
    "\n",
    "    dl = cosmo.luminosity_distance(z).value # Distance in Mpc\n",
    "    dl_cgs = dl*(3.0856E24) # Distance from Mpc to cm\n",
    "\n",
    "    # convert flux to luminosity \n",
    "    F = L/(4*np.pi*dl_cgs**2)\n",
    "\n",
    "    return F"
   ]
  },
  {
   "cell_type": "markdown",
   "metadata": {},
   "source": []
  },
  {
   "cell_type": "code",
   "execution_count": 3,
   "metadata": {},
   "outputs": [],
   "source": [
    "path = '/Users/connor_auge/Research/Disertation/GOALS/cigale_out/results/'\n",
    "\n",
    "with fits.open(path+'results.fits') as hdul:\n",
    "    data = hdul[1].data \n",
    "    cols = hdul[1].columns"
   ]
  },
  {
   "cell_type": "code",
   "execution_count": 4,
   "metadata": {},
   "outputs": [],
   "source": [
    "Lx = data['best.xray.agn_Lx_2to10keV']\n",
    "ID = data['ID']"
   ]
  },
  {
   "cell_type": "code",
   "execution_count": 5,
   "metadata": {},
   "outputs": [
    {
     "name": "stdout",
     "output_type": "stream",
     "text": [
      "IRAS13120-5453 43.501206031013915\n",
      "IRASF05189-2524 44.17908082202161\n",
      "MCG-03-34-064 43.36432300038453\n",
      "Mrk1073 43.5289286388519\n",
      "NGC3690 42.520713555434966\n",
      "NGC4922 43.164938622858365\n",
      "NGC5135 43.13111816460785\n",
      "NGC5256(SW) 43.04622523444334\n",
      "NGC7469 42.99115104332817\n",
      "NGC7674 43.92721032507502\n",
      "NGC1068 nan\n",
      "NGC1275 43.119806153001804\n",
      "NGC6240N 44.01264493119631\n",
      "NGC6921 42.6813592331843\n",
      "NGC7130 42.867166099028594\n",
      "NGC7682 42.574539206631854\n",
      "UGC05101 44.050632947907815\n",
      "UGC08058 43.42600828313442\n",
      "UGC08696 43.548162664169126\n",
      "UGC09913 42.85359834290351\n"
     ]
    }
   ],
   "source": [
    "for i in range(len(Lx)):\n",
    "    print(ID[i],np.log10(Lx[i])+7)"
   ]
  },
  {
   "cell_type": "code",
   "execution_count": 25,
   "metadata": {},
   "outputs": [
    {
     "name": "stdout",
     "output_type": "stream",
     "text": [
      "Cat Values\n",
      "2.6205097049648152e-11\n",
      "0.0013548035174668095\n",
      "CIGALE Values\n",
      "2.7372496649911773e-11\n",
      "0.0014151580768004387\n"
     ]
    }
   ],
   "source": [
    "# Mrk1073\n",
    "cat_L = 43.51\n",
    "Fcheck = Lum_to_Flux(10**cat_L,0.0233)\n",
    "print('Cat Values')\n",
    "print(Fcheck)\n",
    "print(Fcheck*4.136E8/(10-2))\n",
    "\n",
    "cigale_L = 43.5289286388519\n",
    "Fcheck = Lum_to_Flux(10**cigale_L,0.0233)\n",
    "print('CIGALE Values')\n",
    "print(Fcheck)\n",
    "print(Fcheck*4.136E8/(10-2))\n"
   ]
  },
  {
   "cell_type": "code",
   "execution_count": 26,
   "metadata": {},
   "outputs": [
    {
     "name": "stdout",
     "output_type": "stream",
     "text": [
      "Cat Values\n",
      "3.008747707923096e-11\n",
      "0.0015555225649962405\n",
      "CIGALE Values\n",
      "1.2231130346723796e-10\n",
      "0.006323494389256203\n"
     ]
    }
   ],
   "source": [
    "# IRASF05189-2524\n",
    "cat_L = 43.57\n",
    "Fcheck = Lum_to_Flux(10**cat_L,0.0233)\n",
    "print('Cat Values')\n",
    "print(Fcheck)\n",
    "print(Fcheck*4.136E8/(10-2))\n",
    "\n",
    "cigale_L = 44.17908082202161\n",
    "Fcheck = Lum_to_Flux(10**cigale_L,0.0233)\n",
    "print('CIGALE Values')\n",
    "print(Fcheck)\n",
    "print(Fcheck*4.136E8/(10-2))"
   ]
  },
  {
   "cell_type": "code",
   "execution_count": 35,
   "metadata": {},
   "outputs": [
    {
     "name": "stdout",
     "output_type": "stream",
     "text": [
      "Cat Values\n",
      "2.2166887710848318e-11\n",
      "0.001146028094650858\n",
      "CIGALE Values\n",
      "5.45576637255272e-12\n",
      "0.00028206312146097565\n"
     ]
    },
    {
     "data": {
      "text/plain": [
       "0.00158719"
      ]
     },
     "execution_count": 35,
     "metadata": {},
     "output_type": "execute_result"
    }
   ],
   "source": [
    "# NGC 7674\n",
    "cat_L = 43.6\n",
    "Fcheck = Lum_to_Flux(10**cat_L,0.028)\n",
    "print('Cat Values')\n",
    "print(Fcheck)\n",
    "print(Fcheck*4.136E8/(10-2))\n",
    "\n",
    "cigale_L = 42.99115104332817\n",
    "Fcheck = Lum_to_Flux(10**cigale_L,0.028)\n",
    "print('CIGALE Values')\n",
    "print(Fcheck)\n",
    "print(Fcheck*4.136E8/(10-2))\n",
    "\n",
    "\n",
    "xspecF = 3.07e-11 #ergs/cm^2/s\n",
    "xspecF*4.136E8/(10-2)"
   ]
  },
  {
   "cell_type": "code",
   "execution_count": 28,
   "metadata": {},
   "outputs": [
    {
     "data": {
      "text/plain": [
       "3.9810717055349854e+43"
      ]
     },
     "execution_count": 28,
     "metadata": {},
     "output_type": "execute_result"
    }
   ],
   "source": [
    "10**43.6"
   ]
  },
  {
   "cell_type": "code",
   "execution_count": 29,
   "metadata": {},
   "outputs": [
    {
     "data": {
      "text/plain": [
       "43.73239375982297"
      ]
     },
     "execution_count": 29,
     "metadata": {},
     "output_type": "execute_result"
    }
   ],
   "source": [
    "np.log10(5.4E43)"
   ]
  },
  {
   "cell_type": "code",
   "execution_count": 34,
   "metadata": {},
   "outputs": [
    {
     "data": {
      "text/plain": [
       "0.009233397591462533"
      ]
     },
     "execution_count": 34,
     "metadata": {},
     "output_type": "execute_result"
    }
   ],
   "source": [
    "3.9810717055349854e+43/4.3116e+45\n"
   ]
  },
  {
   "cell_type": "code",
   "execution_count": 32,
   "metadata": {},
   "outputs": [
    {
     "data": {
      "text/plain": [
       "43.60006853513571"
      ]
     },
     "execution_count": 32,
     "metadata": {},
     "output_type": "execute_result"
    }
   ],
   "source": [
    "np.log10(3.9817e+43)"
   ]
  },
  {
   "cell_type": "markdown",
   "metadata": {},
   "source": [
    "# Check COSMOS"
   ]
  },
  {
   "cell_type": "code",
   "execution_count": 25,
   "metadata": {},
   "outputs": [],
   "source": [
    "path = '/Users/connor_auge/Research/Disertation/catalogs/chandra_COSMOS_legacy_opt_NIR_counterparts_20160113_4d.fits'\n",
    "\n",
    "with fits.open(path) as hdul:\n",
    "    data = hdul[1].data \n",
    "    cols = hdul[1].columns"
   ]
  },
  {
   "cell_type": "code",
   "execution_count": 26,
   "metadata": {},
   "outputs": [
    {
     "name": "stderr",
     "output_type": "stream",
     "text": [
      "/var/folders/_6/vw02nk9n7g11l58s8rrjb9k80000gn/T/ipykernel_17694/3532562406.py:8: RuntimeWarning: invalid value encountered in log10\n",
      "  Lx_int = Lx_h - np.log10(abs_corr)\n"
     ]
    }
   ],
   "source": [
    "ID = data['id_k_uv']\n",
    "Fx_h = data['flux_H']\n",
    "Lx_h = data['Lx_210']\n",
    "z = data['z_best']\n",
    "abs_corr = data['abs_corr_210']\n",
    "Fx_h_mjy = Fx_h*4.136E8/(10-2)\n",
    "\n",
    "Lx_int = Lx_h - np.log10(abs_corr)\n",
    "Fx_h_mjy_int = Fx_h_mjy/abs_corr"
   ]
  },
  {
   "cell_type": "code",
   "execution_count": 34,
   "metadata": {},
   "outputs": [],
   "source": [
    "id_check = 128954"
   ]
  },
  {
   "cell_type": "code",
   "execution_count": 35,
   "metadata": {},
   "outputs": [
    {
     "name": "stdout",
     "output_type": "stream",
     "text": [
      "[128954]\n",
      "[1.16]\n",
      "[44.754] [44.754]\n",
      "[5.9972e-06] [5.9972e-06]\n",
      "[1.]\n"
     ]
    }
   ],
   "source": [
    "print(ID[ID == id_check])\n",
    "print(z[ID == id_check])\n",
    "print(Lx_h[ID == id_check],Lx_int[ID == id_check])\n",
    "print(Fx_h_mjy[ID == id_check],Fx_h_mjy_int[ID == id_check])\n",
    "print(abs_corr[ID == id_check])"
   ]
  },
  {
   "cell_type": "code",
   "execution_count": 44,
   "metadata": {},
   "outputs": [],
   "source": [
    "nuFnu = Fx_h_mjy[ID == id_check]*1E-23*1.4508e+18*1E-3"
   ]
  },
  {
   "cell_type": "code",
   "execution_count": 45,
   "metadata": {},
   "outputs": [
    {
     "data": {
      "text/plain": [
       "array([6.64730617e+44])"
      ]
     },
     "execution_count": 45,
     "metadata": {},
     "output_type": "execute_result"
    }
   ],
   "source": [
    "Flux_to_Lum(nuFnu,1.16)"
   ]
  },
  {
   "cell_type": "code",
   "execution_count": 40,
   "metadata": {},
   "outputs": [
    {
     "data": {
      "text/plain": [
       "5.6234132519034906e+44"
      ]
     },
     "execution_count": 40,
     "metadata": {},
     "output_type": "execute_result"
    }
   ],
   "source": [
    "10**44.75"
   ]
  },
  {
   "cell_type": "code",
   "execution_count": 48,
   "metadata": {},
   "outputs": [
    {
     "data": {
      "text/plain": [
       "5.0734436577141095e-09"
      ]
     },
     "execution_count": 48,
     "metadata": {},
     "output_type": "execute_result"
    }
   ],
   "source": [
    "Lum_to_Flux(10**44.75,1.16)/1.4508e+18/1E-23"
   ]
  },
  {
   "cell_type": "code",
   "execution_count": 49,
   "metadata": {},
   "outputs": [
    {
     "data": {
      "text/plain": [
       "0.8459687440428956"
      ]
     },
     "execution_count": 49,
     "metadata": {},
     "output_type": "execute_result"
    }
   ],
   "source": [
    "5.6234132519034906e+44/6.64730617e+44"
   ]
  },
  {
   "cell_type": "code",
   "execution_count": 50,
   "metadata": {},
   "outputs": [
    {
     "data": {
      "text/plain": [
       "0.8459687283589191"
      ]
     },
     "execution_count": 50,
     "metadata": {},
     "output_type": "execute_result"
    }
   ],
   "source": [
    "5.0734436577141095e-09/5.9972e-09"
   ]
  },
  {
   "cell_type": "code",
   "execution_count": 66,
   "metadata": {},
   "outputs": [
    {
     "name": "stdout",
     "output_type": "stream",
     "text": [
      "[1.10839828e+50]\n",
      "[6.64728601e+44]\n",
      "[5.12040317e-06]\n",
      "[44.754]\n"
     ]
    }
   ],
   "source": [
    "cosmo = FlatLambdaCDM(H0=70, Om0=0.29, Tcmb0=2.725)\n",
    "dl = cosmo.luminosity_distance(z[ID == id_check]).value # Distance in Mpc\n",
    "dl_cgs = dl*(3.0856E24) # Distance from Mpc to cm\n",
    "\n",
    "    # convert flux to luminosity \n",
    "surf = 4*np.pi*dl_cgs**2\n",
    "k_corr_SED = 1e-26 * surf * c / (2.0664e-4 * 1e-6)\n",
    "print(k_corr_SED)\n",
    "print(Fx_h_mjy[ID == id_check] * k_corr_SED)\n",
    "print(10**44.754 / k_corr_SED)\n",
    "print(Lx_h[ID == id_check])"
   ]
  },
  {
   "cell_type": "code",
   "execution_count": 7,
   "metadata": {},
   "outputs": [],
   "source": [
    "def Lum_to_Flux(L,z):\n",
    "    '''Function to convert flux to luminosity'''\n",
    "    cosmo = FlatLambdaCDM(H0=70, Om0=0.29, Tcmb0=2.725)\n",
    "\n",
    "    dl = cosmo.luminosity_distance(z).value # Distance in Mpc\n",
    "    dl_cgs = dl*(3.0856E24) # Distance from Mpc to cm\n",
    "    surf = 4*np.pi*dl_cgs**2\n",
    "    k_corr_SED = 1e-26 * surf * c / (2.0664e-4 * 1e-6)\n",
    "\n",
    "    # convert flux to luminosity \n",
    "    F = L / k_corr_SED\n",
    "\n",
    "    return F"
   ]
  },
  {
   "cell_type": "code",
   "execution_count": 8,
   "metadata": {},
   "outputs": [
    {
     "data": {
      "text/plain": [
       "5.0734581101153215e-06"
      ]
     },
     "execution_count": 8,
     "metadata": {},
     "output_type": "execute_result"
    }
   ],
   "source": [
    "Lum_to_Flux(10**44.75,1.16)"
   ]
  },
  {
   "cell_type": "code",
   "execution_count": null,
   "metadata": {},
   "outputs": [],
   "source": []
  }
 ],
 "metadata": {
  "kernelspec": {
   "display_name": "py39",
   "language": "python",
   "name": "python3"
  },
  "language_info": {
   "codemirror_mode": {
    "name": "ipython",
    "version": 3
   },
   "file_extension": ".py",
   "mimetype": "text/x-python",
   "name": "python",
   "nbconvert_exporter": "python",
   "pygments_lexer": "ipython3",
   "version": "3.9.18"
  }
 },
 "nbformat": 4,
 "nbformat_minor": 2
}
